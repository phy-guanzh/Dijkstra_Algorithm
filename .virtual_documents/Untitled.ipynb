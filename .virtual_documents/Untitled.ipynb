get_ipython().getoutput("wget https://raw.githubusercontent.com/malin84/transportation_networks_of_china/refs/heads/main/pref_pair/time_cost_prefecture_pair_road.csv")


get_ipython().getoutput("wget https://raw.githubusercontent.com/malin84/transportation_networks_of_china/refs/heads/main/pref_pair/cityinfo.csv")


import numpy as np
import pandas as pd


df = pd.read_csv('time_cost_prefecture_pair_road.csv')


df_test = df.pivot(index='origin', columns='destination', values= 'year_2017')


df_test[1101] = [np.nan] * len(df_test)


df_test = df_test.sort_index(axis = 1)


df_test.loc[6502] = [np.nan] * (len(df_test)+1)



df_test


for i in range(len(df_test)):
    df_test.iloc[i,i]=0


df_cleaned = df_test.combine_first(df_test.T)


df_cleaned


mapping_df = pd.read_csv('cityinfo.csv')
mapping_df


mapping = dict(zip(mapping_df['dzcode'],mapping_df['cityname_eng']))


mapping


df_cleaned = df_cleaned.rename(index = mapping, columns= mapping)


df_cleaned.to_csv('china_network.csv')
